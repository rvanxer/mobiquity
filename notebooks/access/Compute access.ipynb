{
 "cells": [
  {
   "cell_type": "markdown",
   "id": "e80ef64b",
   "metadata": {},
   "source": [
    "# 1. Setup"
   ]
  },
  {
   "cell_type": "code",
   "execution_count": 1,
   "id": "7aa6f1a2",
   "metadata": {
    "tags": []
   },
   "outputs": [],
   "source": [
    "import sys\n",
    "sys.path.append('../..')\n",
    "from mobiquity.names import *\n",
    "\n",
    "from pqdm.processes import pqdm\n",
    "from scipy.spatial import KDTree"
   ]
  },
  {
   "cell_type": "markdown",
   "id": "3c045868",
   "metadata": {},
   "source": [
    "# 2. Compute access"
   ]
  },
  {
   "cell_type": "markdown",
   "id": "5d219a6d",
   "metadata": {},
   "source": [
    "## 2.1. Load data"
   ]
  },
  {
   "cell_type": "markdown",
   "id": "724a418c",
   "metadata": {},
   "source": [
    "### 2.1.1. Zone boundaries"
   ]
  },
  {
   "cell_type": "code",
   "execution_count": 2,
   "id": "aaba9b8a",
   "metadata": {},
   "outputs": [
    {
     "name": "stdout",
     "output_type": "stream",
     "text": [
      "144,489 rows x 5 cols; Memory: 10.4 MiB\n"
     ]
    },
    {
     "data": {
      "text/html": [
       "<div>\n",
       "<style scoped>\n",
       "    .dataframe tbody tr th:only-of-type {\n",
       "        vertical-align: middle;\n",
       "    }\n",
       "\n",
       "    .dataframe tbody tr th {\n",
       "        vertical-align: top;\n",
       "    }\n",
       "\n",
       "    .dataframe thead th {\n",
       "        text-align: right;\n",
       "    }\n",
       "</style>\n",
       "<table border=\"1\" class=\"dataframe\">\n",
       "  <thead>\n",
       "    <tr style=\"text-align: right;\">\n",
       "      <th></th>\n",
       "      <th>geoid</th>\n",
       "      <th>scale</th>\n",
       "      <th>state</th>\n",
       "      <th>msa</th>\n",
       "      <th>aland</th>\n",
       "    </tr>\n",
       "  </thead>\n",
       "  <tbody>\n",
       "    <tr>\n",
       "      <th></th>\n",
       "      <td>&lt;object&gt;</td>\n",
       "      <td>&lt;category&gt;</td>\n",
       "      <td>&lt;category&gt;</td>\n",
       "      <td>&lt;category&gt;</td>\n",
       "      <td>&lt;float32&gt;</td>\n",
       "    </tr>\n",
       "    <tr>\n",
       "      <th>0</th>\n",
       "      <td>04013</td>\n",
       "      <td>County</td>\n",
       "      <td>AZ</td>\n",
       "      <td>Phoenix</td>\n",
       "      <td>9201.749023</td>\n",
       "    </tr>\n",
       "  </tbody>\n",
       "</table>\n",
       "</div>"
      ],
      "text/plain": [
       "      geoid       scale       state         msa        aland\n",
       "   <object>  <category>  <category>  <category>    <float32>\n",
       "0     04013      County          AZ     Phoenix  9201.749023"
      ]
     },
     "metadata": {},
     "output_type": "display_data"
    }
   ],
   "source": [
    "zone_msa = U.load(DATA / 'zones/zones_2020.parquet', geom=False,\n",
    "                  columns='geoid scale state msa aland'.split(),\n",
    "                  filters=[('top_msa', '==', True)]).disp()"
   ]
  },
  {
   "cell_type": "code",
   "execution_count": 3,
   "id": "4953dc1a",
   "metadata": {},
   "outputs": [
    {
     "name": "stdout",
     "output_type": "stream",
     "text": [
      "7,072 rows x 4 cols; Memory: 0.7 MiB\n"
     ]
    },
    {
     "data": {
      "text/html": [
       "<div>\n",
       "<style scoped>\n",
       "    .dataframe tbody tr th:only-of-type {\n",
       "        vertical-align: middle;\n",
       "    }\n",
       "\n",
       "    .dataframe tbody tr th {\n",
       "        vertical-align: top;\n",
       "    }\n",
       "\n",
       "    .dataframe thead th {\n",
       "        text-align: right;\n",
       "    }\n",
       "</style>\n",
       "<table border=\"1\" class=\"dataframe\">\n",
       "  <thead>\n",
       "    <tr style=\"text-align: right;\">\n",
       "      <th></th>\n",
       "      <th>geoid</th>\n",
       "      <th>scale</th>\n",
       "      <th>county</th>\n",
       "      <th>aland</th>\n",
       "    </tr>\n",
       "  </thead>\n",
       "  <tbody>\n",
       "    <tr>\n",
       "      <th></th>\n",
       "      <td>&lt;object&gt;</td>\n",
       "      <td>&lt;category&gt;</td>\n",
       "      <td>&lt;category&gt;</td>\n",
       "      <td>&lt;float32&gt;</td>\n",
       "    </tr>\n",
       "    <tr>\n",
       "      <th>0</th>\n",
       "      <td>18001</td>\n",
       "      <td>County</td>\n",
       "      <td>Adams</td>\n",
       "      <td>338.924896</td>\n",
       "    </tr>\n",
       "  </tbody>\n",
       "</table>\n",
       "</div>"
      ],
      "text/plain": [
       "      geoid       scale      county       aland\n",
       "   <object>  <category>  <category>   <float32>\n",
       "0     18001      County       Adams  338.924896"
      ]
     },
     "metadata": {},
     "output_type": "display_data"
    }
   ],
   "source": [
    "zone_in = U.load(DATA / 'zones/in_2020.parquet', geom=False,\n",
    "                 columns=['geoid', 'scale', 'county', 'aland'],\n",
    "                 filters=[('aland', '>', 0)]).disp()"
   ]
  },
  {
   "cell_type": "markdown",
   "id": "637764ef",
   "metadata": {},
   "source": [
    "### 2.1.2. Population"
   ]
  },
  {
   "cell_type": "code",
   "execution_count": 4,
   "id": "7730237f",
   "metadata": {},
   "outputs": [
    {
     "name": "stdout",
     "output_type": "stream",
     "text": [
      "322,202 rows x 3 cols; Memory: 26.0 MiB\n"
     ]
    },
    {
     "data": {
      "text/html": [
       "<div>\n",
       "<style scoped>\n",
       "    .dataframe tbody tr th:only-of-type {\n",
       "        vertical-align: middle;\n",
       "    }\n",
       "\n",
       "    .dataframe tbody tr th {\n",
       "        vertical-align: top;\n",
       "    }\n",
       "\n",
       "    .dataframe thead th {\n",
       "        text-align: right;\n",
       "    }\n",
       "</style>\n",
       "<table border=\"1\" class=\"dataframe\">\n",
       "  <thead>\n",
       "    <tr style=\"text-align: right;\">\n",
       "      <th></th>\n",
       "      <th>geoid</th>\n",
       "      <th>popu</th>\n",
       "      <th>labor</th>\n",
       "    </tr>\n",
       "  </thead>\n",
       "  <tbody>\n",
       "    <tr>\n",
       "      <th></th>\n",
       "      <td>&lt;object&gt;</td>\n",
       "      <td>&lt;float64&gt;</td>\n",
       "      <td>&lt;float64&gt;</td>\n",
       "    </tr>\n",
       "    <tr>\n",
       "      <th>0</th>\n",
       "      <td>01001</td>\n",
       "      <td>58239.0</td>\n",
       "      <td>27550.0</td>\n",
       "    </tr>\n",
       "  </tbody>\n",
       "</table>\n",
       "</div>"
      ],
      "text/plain": [
       "      geoid       popu      labor\n",
       "   <object>  <float64>  <float64>\n",
       "0     01001    58239.0    27550.0"
      ]
     },
     "metadata": {},
     "output_type": "display_data"
    }
   ],
   "source": [
    "popu = U.load(DATA / 'ses/acs/acs_2021.parquet',\n",
    "              columns=['geoid', 'popu', 'labor']).disp()"
   ]
  },
  {
   "cell_type": "markdown",
   "id": "e2072ceb",
   "metadata": {},
   "source": [
    "### 2.1.3. Opportunities"
   ]
  },
  {
   "cell_type": "code",
   "execution_count": 5,
   "id": "69ec168a",
   "metadata": {},
   "outputs": [
    {
     "name": "stdout",
     "output_type": "stream",
     "text": [
      "2,253,050 rows x 5 cols; Memory: 52.9 MiB\n"
     ]
    },
    {
     "data": {
      "text/html": [
       "<div>\n",
       "<style scoped>\n",
       "    .dataframe tbody tr th:only-of-type {\n",
       "        vertical-align: middle;\n",
       "    }\n",
       "\n",
       "    .dataframe tbody tr th {\n",
       "        vertical-align: top;\n",
       "    }\n",
       "\n",
       "    .dataframe thead th {\n",
       "        text-align: right;\n",
       "    }\n",
       "</style>\n",
       "<table border=\"1\" class=\"dataframe\">\n",
       "  <thead>\n",
       "    <tr style=\"text-align: right;\">\n",
       "      <th></th>\n",
       "      <th>geoid</th>\n",
       "      <th>scale</th>\n",
       "      <th>purpose</th>\n",
       "      <th>kind</th>\n",
       "      <th>opport</th>\n",
       "    </tr>\n",
       "  </thead>\n",
       "  <tbody>\n",
       "    <tr>\n",
       "      <th></th>\n",
       "      <td>&lt;category&gt;</td>\n",
       "      <td>&lt;category&gt;</td>\n",
       "      <td>&lt;category&gt;</td>\n",
       "      <td>&lt;category&gt;</td>\n",
       "      <td>&lt;int32&gt;</td>\n",
       "    </tr>\n",
       "    <tr>\n",
       "      <th>0</th>\n",
       "      <td>01001</td>\n",
       "      <td>County</td>\n",
       "      <td>Work</td>\n",
       "      <td>All</td>\n",
       "      <td>12318</td>\n",
       "    </tr>\n",
       "  </tbody>\n",
       "</table>\n",
       "</div>"
      ],
      "text/plain": [
       "        geoid       scale     purpose        kind   opport\n",
       "   <category>  <category>  <category>  <category>  <int32>\n",
       "0       01001      County        Work         All    12318"
      ]
     },
     "metadata": {},
     "output_type": "display_data"
    }
   ],
   "source": [
    "opport = U.load(DATA / 'access/opport/opportunities.parquet').disp()"
   ]
  },
  {
   "cell_type": "markdown",
   "id": "a811197b",
   "metadata": {},
   "source": [
    "### 2.1.4. Impedance function"
   ]
  },
  {
   "cell_type": "code",
   "execution_count": 6,
   "id": "8b977144",
   "metadata": {},
   "outputs": [
    {
     "name": "stdout",
     "output_type": "stream",
     "text": [
      "8 rows x 5 cols; Memory: 0.0 MiB\n"
     ]
    },
    {
     "data": {
      "text/html": [
       "<div>\n",
       "<style scoped>\n",
       "    .dataframe tbody tr th:only-of-type {\n",
       "        vertical-align: middle;\n",
       "    }\n",
       "\n",
       "    .dataframe tbody tr th {\n",
       "        vertical-align: top;\n",
       "    }\n",
       "\n",
       "    .dataframe thead th {\n",
       "        text-align: right;\n",
       "    }\n",
       "</style>\n",
       "<table border=\"1\" class=\"dataframe\">\n",
       "  <thead>\n",
       "    <tr style=\"text-align: right;\">\n",
       "      <th></th>\n",
       "      <th>mode</th>\n",
       "      <th>purpose</th>\n",
       "      <th>β1</th>\n",
       "      <th>β2</th>\n",
       "      <th>r2</th>\n",
       "    </tr>\n",
       "  </thead>\n",
       "  <tbody>\n",
       "    <tr>\n",
       "      <th></th>\n",
       "      <td>&lt;object&gt;</td>\n",
       "      <td>&lt;object&gt;</td>\n",
       "      <td>&lt;float64&gt;</td>\n",
       "      <td>&lt;float64&gt;</td>\n",
       "      <td>&lt;float64&gt;</td>\n",
       "    </tr>\n",
       "    <tr>\n",
       "      <th>0</th>\n",
       "      <td>Drive</td>\n",
       "      <td>Work</td>\n",
       "      <td>-0.007127</td>\n",
       "      <td>1.501453</td>\n",
       "      <td>0.998159</td>\n",
       "    </tr>\n",
       "    <tr>\n",
       "      <th>1</th>\n",
       "      <td>Drive</td>\n",
       "      <td>Non-work</td>\n",
       "      <td>-0.020097</td>\n",
       "      <td>1.36163</td>\n",
       "      <td>0.995175</td>\n",
       "    </tr>\n",
       "    <tr>\n",
       "      <th>2</th>\n",
       "      <td>Transit</td>\n",
       "      <td>Work</td>\n",
       "      <td>-0.000166</td>\n",
       "      <td>2.096192</td>\n",
       "      <td>0.999184</td>\n",
       "    </tr>\n",
       "    <tr>\n",
       "      <th>3</th>\n",
       "      <td>Transit</td>\n",
       "      <td>Non-work</td>\n",
       "      <td>-0.002062</td>\n",
       "      <td>1.608027</td>\n",
       "      <td>0.998069</td>\n",
       "    </tr>\n",
       "    <tr>\n",
       "      <th>4</th>\n",
       "      <td>Walk</td>\n",
       "      <td>Work</td>\n",
       "      <td>-0.053588</td>\n",
       "      <td>1.085346</td>\n",
       "      <td>0.997923</td>\n",
       "    </tr>\n",
       "    <tr>\n",
       "      <th>5</th>\n",
       "      <td>Walk</td>\n",
       "      <td>Non-work</td>\n",
       "      <td>-0.058269</td>\n",
       "      <td>1.007449</td>\n",
       "      <td>0.997875</td>\n",
       "    </tr>\n",
       "    <tr>\n",
       "      <th>6</th>\n",
       "      <td>Bike</td>\n",
       "      <td>Work</td>\n",
       "      <td>-0.007653</td>\n",
       "      <td>1.591415</td>\n",
       "      <td>0.994467</td>\n",
       "    </tr>\n",
       "    <tr>\n",
       "      <th>7</th>\n",
       "      <td>Bike</td>\n",
       "      <td>Non-work</td>\n",
       "      <td>-0.02808</td>\n",
       "      <td>1.145222</td>\n",
       "      <td>0.991943</td>\n",
       "    </tr>\n",
       "  </tbody>\n",
       "</table>\n",
       "</div>"
      ],
      "text/plain": [
       "       mode   purpose         β1         β2         r2\n",
       "   <object>  <object>  <float64>  <float64>  <float64>\n",
       "0     Drive      Work  -0.007127   1.501453   0.998159\n",
       "1     Drive  Non-work  -0.020097    1.36163   0.995175\n",
       "2   Transit      Work  -0.000166   2.096192   0.999184\n",
       "3   Transit  Non-work  -0.002062   1.608027   0.998069\n",
       "4      Walk      Work  -0.053588   1.085346   0.997923\n",
       "5      Walk  Non-work  -0.058269   1.007449   0.997875\n",
       "6      Bike      Work  -0.007653   1.591415   0.994467\n",
       "7      Bike  Non-work   -0.02808   1.145222   0.991943"
      ]
     },
     "metadata": {},
     "output_type": "display_data"
    }
   ],
   "source": [
    "imped_params = U.load(DATA / 'impedance_params_double.csv').disp(None)"
   ]
  },
  {
   "cell_type": "markdown",
   "id": "64429dd7",
   "metadata": {},
   "source": [
    "## 2.2. Travel times"
   ]
  },
  {
   "cell_type": "markdown",
   "id": "dc9cadbb",
   "metadata": {},
   "source": [
    "### 2.2.1. Indiana (GDM)"
   ]
  },
  {
   "cell_type": "code",
   "execution_count": 7,
   "id": "b87b8471",
   "metadata": {},
   "outputs": [
    {
     "name": "stdout",
     "output_type": "stream",
     "text": [
      "8,578,746 rows x 5 cols; Memory: 148.7 MiB\n"
     ]
    },
    {
     "data": {
      "text/html": [
       "<div>\n",
       "<style scoped>\n",
       "    .dataframe tbody tr th:only-of-type {\n",
       "        vertical-align: middle;\n",
       "    }\n",
       "\n",
       "    .dataframe tbody tr th {\n",
       "        vertical-align: top;\n",
       "    }\n",
       "\n",
       "    .dataframe thead th {\n",
       "        text-align: right;\n",
       "    }\n",
       "</style>\n",
       "<table border=\"1\" class=\"dataframe\">\n",
       "  <thead>\n",
       "    <tr style=\"text-align: right;\">\n",
       "      <th></th>\n",
       "      <th>scale</th>\n",
       "      <th>mode</th>\n",
       "      <th>src</th>\n",
       "      <th>trg</th>\n",
       "      <th>time</th>\n",
       "    </tr>\n",
       "  </thead>\n",
       "  <tbody>\n",
       "    <tr>\n",
       "      <th></th>\n",
       "      <td>&lt;category&gt;</td>\n",
       "      <td>&lt;category&gt;</td>\n",
       "      <td>&lt;category&gt;</td>\n",
       "      <td>&lt;category&gt;</td>\n",
       "      <td>&lt;float32&gt;</td>\n",
       "    </tr>\n",
       "    <tr>\n",
       "      <th>0</th>\n",
       "      <td>Tract</td>\n",
       "      <td>Transit</td>\n",
       "      <td>18105001304</td>\n",
       "      <td>18105001301</td>\n",
       "      <td>54.466667</td>\n",
       "    </tr>\n",
       "  </tbody>\n",
       "</table>\n",
       "</div>"
      ],
      "text/plain": [
       "        scale        mode          src          trg       time\n",
       "   <category>  <category>   <category>   <category>  <float32>\n",
       "0       Tract     Transit  18105001304  18105001301  54.466667"
      ]
     },
     "metadata": {},
     "output_type": "display_data"
    }
   ],
   "source": [
    "tt_in = U.load(DATA / 'access/distances/gdm_2020.parquet',\n",
    "               filters=[('time', '<=', 90 * 60)],\n",
    "               columns='scale mode src trg time'.split())\n",
    "tt_in.time /= 60 # convert to minutes\n",
    "same_zone = (tt_in[['scale', 'mode', 'src']].drop_duplicates()\n",
    "             .assign(trg=lambda df: df.src, time=0.))\n",
    "tt_in = pd.concat([tt_in, same_zone]).astype(\n",
    "    D(scale=CAT, mode=CAT, src=CAT, trg=CAT, time=F32)).disp()"
   ]
  },
  {
   "cell_type": "markdown",
   "id": "1c4665a1",
   "metadata": {},
   "source": [
    "### 2.2.2. Top 50 MSAs (OSRM)"
   ]
  },
  {
   "cell_type": "code",
   "execution_count": 8,
   "id": "49a915f2",
   "metadata": {
    "tags": []
   },
   "outputs": [
    {
     "name": "stdout",
     "output_type": "stream",
     "text": [
      "2,537,638 rows x 5 cols; Memory: 24.6 MiB\n"
     ]
    },
    {
     "data": {
      "text/html": [
       "<div>\n",
       "<style scoped>\n",
       "    .dataframe tbody tr th:only-of-type {\n",
       "        vertical-align: middle;\n",
       "    }\n",
       "\n",
       "    .dataframe tbody tr th {\n",
       "        vertical-align: top;\n",
       "    }\n",
       "\n",
       "    .dataframe thead th {\n",
       "        text-align: right;\n",
       "    }\n",
       "</style>\n",
       "<table border=\"1\" class=\"dataframe\">\n",
       "  <thead>\n",
       "    <tr style=\"text-align: right;\">\n",
       "      <th></th>\n",
       "      <th>scale</th>\n",
       "      <th>mode</th>\n",
       "      <th>src</th>\n",
       "      <th>trg</th>\n",
       "      <th>time</th>\n",
       "    </tr>\n",
       "  </thead>\n",
       "  <tbody>\n",
       "    <tr>\n",
       "      <th></th>\n",
       "      <td>&lt;category&gt;</td>\n",
       "      <td>&lt;category&gt;</td>\n",
       "      <td>&lt;category&gt;</td>\n",
       "      <td>&lt;category&gt;</td>\n",
       "      <td>&lt;float32&gt;</td>\n",
       "    </tr>\n",
       "    <tr>\n",
       "      <th>0</th>\n",
       "      <td>BG</td>\n",
       "      <td>Drive</td>\n",
       "      <td>480219501011</td>\n",
       "      <td>480219501011</td>\n",
       "      <td>0.0</td>\n",
       "    </tr>\n",
       "  </tbody>\n",
       "</table>\n",
       "</div>"
      ],
      "text/plain": [
       "        scale        mode           src           trg       time\n",
       "   <category>  <category>    <category>    <category>  <float32>\n",
       "0          BG       Drive  480219501011  480219501011        0.0"
      ]
     },
     "metadata": {},
     "output_type": "display_data"
    }
   ],
   "source": [
    "def get_tt_msa(msa):\n",
    "    res = []\n",
    "    cols = D(src_geoid='src', trg_geoid='trg', duration='time')\n",
    "    for mode in ['drive', 'bike', 'walk']:\n",
    "        fpath = DATA / f'access/distances/osrm/msa/{msa}/bg_{mode}_2020.parquet'\n",
    "        df = pd.read_parquet(fpath, columns=list(cols))\n",
    "        df.duration /= 60 # convert to minutes\n",
    "        res.append(df.rename(columns=cols).assign(mode=mode.title()))\n",
    "    df = pd.concat(res).reset_index(drop=1)#.astype(D(mode=CAT))\n",
    "    res = [df.assign(scale='BG')]\n",
    "    for scale, nchar in D(County=5, Tract=11).items():\n",
    "        d = df.assign(src=df.src.str[:nchar], trg=df.trg.str[:nchar])\n",
    "        d = d.groupby(['src', 'trg', 'mode'])['time'].agg(np.median)\n",
    "        res.append(d.reset_index().assign(scale=scale))\n",
    "    df = pd.concat(res).reset_index(drop=1)\n",
    "    cat_cols = ['scale', 'mode', 'src', 'trg']\n",
    "    df = df.astype({x: CAT for x in cat_cols})[cat_cols + ['time']]\n",
    "    return df\n",
    "\n",
    "df = get_tt_msa('austin').disp()"
   ]
  },
  {
   "cell_type": "markdown",
   "id": "488c9c67",
   "metadata": {
    "tags": []
   },
   "source": [
    "## 2.3. Compute accessibility"
   ]
  },
  {
   "cell_type": "markdown",
   "id": "777fd049",
   "metadata": {},
   "source": [
    "- Impedance weight: $$ w_{i,j}^{k,m} = f_{k,m}(c_{m,i,j}) = c_{m,i,j}^{\\alpha_{k,m}} e^{\\beta_{k,m} c_{m,i,j}} $$\n",
    "- Contour: $$ A_i^{k,m,t} = \\sum_{j\\in C_i(t)} o_j^k $$\n",
    "- Gravity: $$ A_i^{k,m,t} = \\sum_{j\\in C_i(t)} o_j^k\\cdot w_{i,j}^{k,m} $$\n",
    "- Competition: $$ A_i^{k,m,t} = \\sum_{j\\in C_i(t)} \\frac{o_j^k\\cdot w_{i,j}^{k,m}}{\\sum_{l\\in C_j(t)} p_j^k\\cdot w_{i,j}^{k,m}} $$"
   ]
  },
  {
   "cell_type": "code",
   "execution_count": 9,
   "id": "ae1651d2",
   "metadata": {
    "tags": []
   },
   "outputs": [],
   "source": [
    "thresholds = (15, 30, 45, 60, 90) # travel time thresholds (minutes)"
   ]
  },
  {
   "cell_type": "code",
   "execution_count": 10,
   "id": "0ecf300a",
   "metadata": {
    "tags": []
   },
   "outputs": [],
   "source": [
    "def get_access(fname, times, opport=opport, popu=popu, params=imped_params,\n",
    "               thresholds=thresholds, overwrite=False):\n",
    "    outpath = DATA / f'access/access/{fname}.parquet'\n",
    "    if (df := U.checkfile(outpath, overwrite)) is not None: return df\n",
    "    res = []\n",
    "    times = times.astype(D(src=str, trg=str))\n",
    "    opport_grps = opport.groupby(['kind', 'purpose'])\n",
    "    for thresh in tqdm(thresholds):\n",
    "        tt = times[times.time <= thresh].copy()\n",
    "        for (scale, mode), od_ in tt.groupby(['scale', 'mode']):\n",
    "            for (kind, purp), df in opport_grps:\n",
    "                df = df[df['scale'] == scale]\n",
    "                r = U.filt(params, mode=mode, purpose=purp).iloc[0]\n",
    "                od = od_[['src', 'trg', 'time']].copy()\n",
    "                od['weight'] = np.exp(r['β1'] * od.pop('time') ** r['β2'])\n",
    "                od = od.merge(df.rename(columns=D(geoid='trg'))[['trg', 'opport']])\n",
    "                od['numer'] = od['opport'] * od['weight']\n",
    "                xs = (od.groupby('src')[['opport', 'numer']].sum()\n",
    "                      .rename(columns=D(opport='Contour', numer='Gravity'))\n",
    "                      .astype(F32).rename_axis('geoid').reset_index()\n",
    "                      .melt('geoid', var_name='measure', value_name='access'))\n",
    "                fca = od.merge(popu, left_on='src', right_on='geoid')\n",
    "                dmd_col = 'labor' if purp == 'Work' else 'popu'\n",
    "                fca['denom'] = fca[dmd_col] * fca['weight']\n",
    "                denom = fca.groupby('trg')['denom'].sum().reset_index()\n",
    "                od = od.merge(denom, on='trg')\n",
    "                od['ratio'] = od['numer'] / od['denom']\n",
    "                fca = (od.groupby('src')['ratio'].sum().rename('access')\n",
    "                       .astype(F32).rename_axis('geoid')\n",
    "                       .reset_index().assign(measure='Competition'))\n",
    "                res.append(pd.concat([xs, fca]).assign(\n",
    "                    scale=scale, mode=mode, purpose=purp,\n",
    "                    kind=kind, thresh=str(thresh)))\n",
    "    xs = pd.concat(res).reset_index(drop=1)\n",
    "    catCols = 'measure purpose kind mode thresh scale geoid'.split()\n",
    "    xs = xs.astype({x: CAT for x in catCols} | D(access=F32))\n",
    "    xs = xs[catCols + ['access']]\n",
    "    xs.to_parquet(U.mkfile(outpath))\n",
    "    return xs\n",
    "\n",
    "# xs = get_access('msa/birmingham', overwrite=1); xs # 58s\n",
    "# xs = get_access('indiana', tt_in, overwrite=1); xs # 3m48s"
   ]
  },
  {
   "cell_type": "markdown",
   "id": "bbf4136f",
   "metadata": {},
   "source": [
    "### 2.3.1. Indiana (GDM)"
   ]
  },
  {
   "cell_type": "code",
   "execution_count": 11,
   "id": "661da347",
   "metadata": {
    "tags": []
   },
   "outputs": [
    {
     "name": "stdout",
     "output_type": "stream",
     "text": [
      "3,166,152 rows x 8 cols; Memory: 37.0 MiB\n"
     ]
    },
    {
     "data": {
      "text/html": [
       "<div>\n",
       "<style scoped>\n",
       "    .dataframe tbody tr th:only-of-type {\n",
       "        vertical-align: middle;\n",
       "    }\n",
       "\n",
       "    .dataframe tbody tr th {\n",
       "        vertical-align: top;\n",
       "    }\n",
       "\n",
       "    .dataframe thead th {\n",
       "        text-align: right;\n",
       "    }\n",
       "</style>\n",
       "<table border=\"1\" class=\"dataframe\">\n",
       "  <thead>\n",
       "    <tr style=\"text-align: right;\">\n",
       "      <th></th>\n",
       "      <th>measure</th>\n",
       "      <th>purpose</th>\n",
       "      <th>kind</th>\n",
       "      <th>mode</th>\n",
       "      <th>thresh</th>\n",
       "      <th>scale</th>\n",
       "      <th>geoid</th>\n",
       "      <th>access</th>\n",
       "    </tr>\n",
       "  </thead>\n",
       "  <tbody>\n",
       "    <tr>\n",
       "      <th></th>\n",
       "      <td>&lt;category&gt;</td>\n",
       "      <td>&lt;category&gt;</td>\n",
       "      <td>&lt;category&gt;</td>\n",
       "      <td>&lt;category&gt;</td>\n",
       "      <td>&lt;category&gt;</td>\n",
       "      <td>&lt;category&gt;</td>\n",
       "      <td>&lt;category&gt;</td>\n",
       "      <td>&lt;float32&gt;</td>\n",
       "    </tr>\n",
       "    <tr>\n",
       "      <th>0</th>\n",
       "      <td>Contour</td>\n",
       "      <td>Work</td>\n",
       "      <td>All</td>\n",
       "      <td>Bike</td>\n",
       "      <td>15</td>\n",
       "      <td>BG</td>\n",
       "      <td>180010301001</td>\n",
       "      <td>90.0</td>\n",
       "    </tr>\n",
       "  </tbody>\n",
       "</table>\n",
       "</div>"
      ],
      "text/plain": [
       "      measure     purpose        kind        mode      thresh       scale  \\\n",
       "   <category>  <category>  <category>  <category>  <category>  <category>   \n",
       "0     Contour        Work         All        Bike          15          BG   \n",
       "\n",
       "          geoid     access  \n",
       "     <category>  <float32>  \n",
       "0  180010301001       90.0  "
      ]
     },
     "metadata": {},
     "output_type": "display_data"
    }
   ],
   "source": [
    "xs_in = get_access('indiana', tt_in, overwrite=0).disp() # 3m18s"
   ]
  },
  {
   "cell_type": "markdown",
   "id": "4d0dec9d",
   "metadata": {},
   "source": [
    "### 2.3.2. Top MSAs (OSRM)"
   ]
  },
  {
   "cell_type": "code",
   "execution_count": 12,
   "id": "0a4ca971",
   "metadata": {
    "tags": []
   },
   "outputs": [],
   "source": [
    "def get_access_msa(msa):\n",
    "    times = get_tt_msa(msa)\n",
    "    return get_access(f'msa/{msa}', times)\n",
    "\n",
    "msas = os.listdir(f'{DATA}/access/distances/osrm/msa')\n",
    "# %time pqdm(msas, get_access_msa, n_jobs=25); # 2h30m2s"
   ]
  },
  {
   "cell_type": "markdown",
   "id": "43ab2e4d",
   "metadata": {},
   "source": [
    "## 3.1. Maximum accessibility"
   ]
  },
  {
   "cell_type": "code",
   "execution_count": 13,
   "id": "e5fba36d",
   "metadata": {
    "tags": []
   },
   "outputs": [],
   "source": [
    "max_speeds = {k: v * U.MPH2MPS for k, v in D(\n",
    "    Drive=70, Walk=3.1, Bike=16, Transit=20).items()}\n",
    "max_time = 60 * 60 # maximum allowed time (seconds)"
   ]
  },
  {
   "cell_type": "code",
   "execution_count": 14,
   "id": "b2f68e8c",
   "metadata": {
    "tags": []
   },
   "outputs": [
    {
     "name": "stdout",
     "output_type": "stream",
     "text": [
      "9,821,504 rows x 5 cols; Memory: 95.1 MiB\n"
     ]
    },
    {
     "data": {
      "text/html": [
       "<div>\n",
       "<style scoped>\n",
       "    .dataframe tbody tr th:only-of-type {\n",
       "        vertical-align: middle;\n",
       "    }\n",
       "\n",
       "    .dataframe tbody tr th {\n",
       "        vertical-align: top;\n",
       "    }\n",
       "\n",
       "    .dataframe thead th {\n",
       "        text-align: right;\n",
       "    }\n",
       "</style>\n",
       "<table border=\"1\" class=\"dataframe\">\n",
       "  <thead>\n",
       "    <tr style=\"text-align: right;\">\n",
       "      <th></th>\n",
       "      <th>scale</th>\n",
       "      <th>mode</th>\n",
       "      <th>src</th>\n",
       "      <th>trg</th>\n",
       "      <th>time</th>\n",
       "    </tr>\n",
       "  </thead>\n",
       "  <tbody>\n",
       "    <tr>\n",
       "      <th></th>\n",
       "      <td>&lt;category&gt;</td>\n",
       "      <td>&lt;category&gt;</td>\n",
       "      <td>&lt;category&gt;</td>\n",
       "      <td>&lt;category&gt;</td>\n",
       "      <td>&lt;float32&gt;</td>\n",
       "    </tr>\n",
       "    <tr>\n",
       "      <th>0</th>\n",
       "      <td>BG</td>\n",
       "      <td>Drive</td>\n",
       "      <td>180319693003</td>\n",
       "      <td>180319693003</td>\n",
       "      <td>0.0</td>\n",
       "    </tr>\n",
       "  </tbody>\n",
       "</table>\n",
       "</div>"
      ],
      "text/plain": [
       "        scale        mode           src           trg       time\n",
       "   <category>  <category>    <category>    <category>  <float32>\n",
       "0          BG       Drive  180319693003  180319693003        0.0"
      ]
     },
     "metadata": {},
     "output_type": "display_data"
    }
   ],
   "source": [
    "def get_max_tt(query, max_speeds=max_speeds, max_time=max_time):\n",
    "    zones = U.load(DATA / 'zones/zones_2020.parquet',\n",
    "                   filters=[(k, '==', v) for k, v in query.items()],\n",
    "                   columns=['geoid', 'scale', 'geometry'])\n",
    "    xy = zones.centroid.get_coordinates() # columns=['x','y']\n",
    "    allZones = pd.concat([zones[['geoid', 'scale']], xy], axis=1)\n",
    "    res = []\n",
    "    for scale, zones in allZones.groupby('scale'):\n",
    "        zones = zones.reset_index(drop=1)\n",
    "        tree = KDTree(zones[['x', 'y']])\n",
    "        for mode, maxSpeed in max_speeds.items():\n",
    "            maxDist = max_time * maxSpeed\n",
    "            src, trg = [zones.loc[idx].reset_index(drop=1) for idx in \n",
    "                        tree.query_pairs(maxDist, output_type='ndarray').T]\n",
    "            dist = ((src.x - trg.x) ** 2 + (src.y - trg.y) ** 2) ** 0.5\n",
    "            time = dist / maxSpeed\n",
    "            src, trg = src.geoid.values, trg.geoid.values\n",
    "            nodes = list(set(src) | set(trg))\n",
    "            times = pd.concat([Pdf(D(src=nodes, trg=nodes, time=0)),\n",
    "                               Pdf(D(src=src, trg=trg, time=time)),\n",
    "                               Pdf(D(src=trg, trg=src, time=time))])\n",
    "            res.append(times.assign(scale=scale, mode=mode))\n",
    "    times = pd.concat(res).reset_index(drop=1).astype(D(time=F32))\n",
    "    times.time = (times.time / 60).astype(F32) # convert to minutes\n",
    "    catCols = ['scale', 'mode', 'src', 'trg']\n",
    "    times = times[catCols + ['time']].astype({x: CAT for x in catCols})\n",
    "    return times\n",
    "\n",
    "tt_max_in = get_max_tt(D(state='IN')).disp() # 19s"
   ]
  },
  {
   "cell_type": "markdown",
   "id": "1062c203",
   "metadata": {},
   "source": [
    "### 3.1.1. Indiana"
   ]
  },
  {
   "cell_type": "code",
   "execution_count": 15,
   "id": "93b85fc0",
   "metadata": {
    "tags": []
   },
   "outputs": [
    {
     "name": "stdout",
     "output_type": "stream",
     "text": [
      "3,496,399 rows x 8 cols; Memory: 40.7 MiB\n"
     ]
    },
    {
     "data": {
      "text/html": [
       "<div>\n",
       "<style scoped>\n",
       "    .dataframe tbody tr th:only-of-type {\n",
       "        vertical-align: middle;\n",
       "    }\n",
       "\n",
       "    .dataframe tbody tr th {\n",
       "        vertical-align: top;\n",
       "    }\n",
       "\n",
       "    .dataframe thead th {\n",
       "        text-align: right;\n",
       "    }\n",
       "</style>\n",
       "<table border=\"1\" class=\"dataframe\">\n",
       "  <thead>\n",
       "    <tr style=\"text-align: right;\">\n",
       "      <th></th>\n",
       "      <th>measure</th>\n",
       "      <th>purpose</th>\n",
       "      <th>kind</th>\n",
       "      <th>mode</th>\n",
       "      <th>thresh</th>\n",
       "      <th>scale</th>\n",
       "      <th>geoid</th>\n",
       "      <th>access</th>\n",
       "    </tr>\n",
       "  </thead>\n",
       "  <tbody>\n",
       "    <tr>\n",
       "      <th></th>\n",
       "      <td>&lt;category&gt;</td>\n",
       "      <td>&lt;category&gt;</td>\n",
       "      <td>&lt;category&gt;</td>\n",
       "      <td>&lt;category&gt;</td>\n",
       "      <td>&lt;category&gt;</td>\n",
       "      <td>&lt;category&gt;</td>\n",
       "      <td>&lt;category&gt;</td>\n",
       "      <td>&lt;float32&gt;</td>\n",
       "    </tr>\n",
       "    <tr>\n",
       "      <th>0</th>\n",
       "      <td>Contour</td>\n",
       "      <td>Work</td>\n",
       "      <td>All</td>\n",
       "      <td>Bike</td>\n",
       "      <td>15</td>\n",
       "      <td>BG</td>\n",
       "      <td>180010301001</td>\n",
       "      <td>90.0</td>\n",
       "    </tr>\n",
       "  </tbody>\n",
       "</table>\n",
       "</div>"
      ],
      "text/plain": [
       "      measure     purpose        kind        mode      thresh       scale  \\\n",
       "   <category>  <category>  <category>  <category>  <category>  <category>   \n",
       "0     Contour        Work         All        Bike          15          BG   \n",
       "\n",
       "          geoid     access  \n",
       "     <category>  <float32>  \n",
       "0  180010301001       90.0  "
      ]
     },
     "metadata": {},
     "output_type": "display_data"
    }
   ],
   "source": [
    "xs_max_in = get_access('indiana_max', tt_max_in, overwrite=0).disp() # 6m19s"
   ]
  },
  {
   "cell_type": "markdown",
   "id": "9ae9b431",
   "metadata": {},
   "source": [
    "### 3.1.2. Top MSAs"
   ]
  },
  {
   "cell_type": "code",
   "execution_count": 16,
   "id": "760be30b",
   "metadata": {
    "tags": []
   },
   "outputs": [
    {
     "name": "stdout",
     "output_type": "stream",
     "text": [
      "Started: 2024-04-04 18:27:30.705084\n"
     ]
    },
    {
     "data": {
      "application/vnd.jupyter.widget-view+json": {
       "model_id": "fdf232487afe443cbb84f6bdd6a32964",
       "version_major": 2,
       "version_minor": 0
      },
      "text/plain": [
       "QUEUEING TASKS | :   0%|          | 0/50 [00:00<?, ?it/s]"
      ]
     },
     "metadata": {},
     "output_type": "display_data"
    },
    {
     "data": {
      "application/vnd.jupyter.widget-view+json": {
       "model_id": "b42f9597bead43dcb5b0897390c2b216",
       "version_major": 2,
       "version_minor": 0
      },
      "text/plain": [
       "PROCESSING TASKS | :   0%|          | 0/50 [00:00<?, ?it/s]"
      ]
     },
     "metadata": {},
     "output_type": "display_data"
    },
    {
     "name": "stdout",
     "output_type": "stream",
     "text": [
      "ERROR: birmingham No objects to concatenate\n",
      "ERROR: fresno No objects to concatenate\n"
     ]
    },
    {
     "data": {
      "application/vnd.jupyter.widget-view+json": {
       "model_id": "0b90a316e1164234a781649c7a2d472c",
       "version_major": 2,
       "version_minor": 0
      },
      "text/plain": [
       "  0%|          | 0/5 [00:00<?, ?it/s]"
      ]
     },
     "metadata": {},
     "output_type": "display_data"
    },
    {
     "name": "stdout",
     "output_type": "stream",
     "text": [
      "ERROR: grand-rapids No objects to concatenate\n"
     ]
    },
    {
     "data": {
      "application/vnd.jupyter.widget-view+json": {
       "model_id": "a05280dc950b4cbc86a65f2c6f75268a",
       "version_major": 2,
       "version_minor": 0
      },
      "text/plain": [
       "  0%|          | 0/5 [00:00<?, ?it/s]"
      ]
     },
     "metadata": {},
     "output_type": "display_data"
    },
    {
     "data": {
      "application/vnd.jupyter.widget-view+json": {
       "model_id": "2bd58f6f6a954cb7a55f4d38778885c8",
       "version_major": 2,
       "version_minor": 0
      },
      "text/plain": [
       "  0%|          | 0/5 [00:00<?, ?it/s]"
      ]
     },
     "metadata": {},
     "output_type": "display_data"
    },
    {
     "data": {
      "application/vnd.jupyter.widget-view+json": {
       "model_id": "86f2963dea4f4769bad18426d28eefe8",
       "version_major": 2,
       "version_minor": 0
      },
      "text/plain": [
       "  0%|          | 0/5 [00:00<?, ?it/s]"
      ]
     },
     "metadata": {},
     "output_type": "display_data"
    },
    {
     "name": "stdout",
     "output_type": "stream",
     "text": [
      "ERROR: st-louis No objects to concatenate\n"
     ]
    },
    {
     "data": {
      "application/vnd.jupyter.widget-view+json": {
       "model_id": "55092b98e7774d5eb8579db43a57a7db",
       "version_major": 2,
       "version_minor": 0
      },
      "text/plain": [
       "COLLECTING RESULTS | :   0%|          | 0/50 [00:00<?, ?it/s]"
      ]
     },
     "metadata": {},
     "output_type": "display_data"
    },
    {
     "name": "stdout",
     "output_type": "stream",
     "text": [
      "CPU times: user 734 ms, sys: 332 ms, total: 1.07 s\n",
      "Wall time: 3h 42min 33s\n",
      "Ended: 2024-04-04 22:10:04.473561\n"
     ]
    }
   ],
   "source": [
    "def get_max_access_msa(msa):\n",
    "    try:\n",
    "        outpath = DATA / f'access/access/msa_max/{msa}.parquet'\n",
    "        if outpath.exists(): return\n",
    "        name = msa.replace('-', ' ').title()\n",
    "        times = get_max_tt(D(msa=name))\n",
    "        return get_access(f'msa_max/{msa}', times)\n",
    "    except Exception as e:\n",
    "        print('ERROR:', msa, e)\n",
    "\n",
    "msas = sorted(os.listdir(f'{DATA}/access/distances/osrm/msa'))\n",
    "# x = get_max_access_msa('austin'); x # 2m39s\n",
    "print(f'Started: {dt.datetime.now()}')\n",
    "%time pqdm(msas, get_max_access_msa, n_jobs=2) # 1h5m39s + 3h42m33s\n",
    "print(f'Ended: {dt.datetime.now()}')"
   ]
  },
  {
   "cell_type": "markdown",
   "id": "67959aa0",
   "metadata": {},
   "source": [
    "## 2.4. Export for publication"
   ]
  },
  {
   "cell_type": "code",
   "execution_count": 13,
   "id": "e8031e68",
   "metadata": {},
   "outputs": [],
   "source": [
    "# def export_access_msa1(path):\n",
    "#     df = U.load(path, columns='measure kind mode thresh geoid access'.split())\n",
    "#     df.measure = df.measure.astype(str).map(\n",
    "#         D(Contour='C', Gravity='G', Competition='F'))\n",
    "#     df.measure += (df['mode'].str[0] + df['thresh'].astype(str))\n",
    "#     df.kind = df.kind.astype(str).map({v: k for k, v in D(\n",
    "#         J0='All', JE='Low edu', JR='POC', JW='Low wage',\n",
    "#         P0='Total', PE='Education', PG='Groceries',\n",
    "#         PM='Medical', PS='Social Support').items()})\n",
    "#     combs = [x + y for x, y in it.product(\n",
    "#         'CGF', 'D15 D30 D45 D60 W15 W30 B15 B30'.split())]\n",
    "#     df = df[df.measure.isin(combs)]\n",
    "#     df.measure += df.kind\n",
    "#     df = df.pivot_table('access', 'geoid', 'measure')\n",
    "#     df = df.fillna(0).astype(F32)\n",
    "#     return df\n",
    "\n",
    "# # x = export_access_msa1(DATA / 'access/base/msa/austin.parquet'); x"
   ]
  },
  {
   "cell_type": "code",
   "execution_count": 14,
   "id": "6a51b8a9",
   "metadata": {},
   "outputs": [],
   "source": [
    "# 39s\n",
    "# paths = list((DATA / 'access/base/msa').glob('*.parquet'))\n",
    "# xsMSApub = pd.concat(pqdm(paths, export_access_msa1, n_jobs=40))\n",
    "# xsMSApub = (zoneMSA.drop(columns='aland').merge(xsMSApub, on='geoid')\n",
    "#             .sort_values(['scale', 'geoid']).reset_index(drop=1)\n",
    "#             .rename(columns=D(geoid='fips', msa='city'))\n",
    "#             .rename(columns=str.upper)).disp()\n",
    "# xsMSApub.to_csv(DATA / 'access/export_us_msa_access.csv', index=False)\n",
    "# xsMSApub = pd.read_csv(DATA / 'access/export_us_msa_access.csv').disp()"
   ]
  },
  {
   "cell_type": "code",
   "execution_count": null,
   "id": "645bc73d",
   "metadata": {},
   "outputs": [],
   "source": []
  }
 ],
 "metadata": {
  "kernelspec": {
   "display_name": "Python 3 (ipykernel)",
   "language": "python",
   "name": "python3"
  },
  "language_info": {
   "codemirror_mode": {
    "name": "ipython",
    "version": 3
   },
   "file_extension": ".py",
   "mimetype": "text/x-python",
   "name": "python",
   "nbconvert_exporter": "python",
   "pygments_lexer": "ipython3",
   "version": "3.11.6"
  }
 },
 "nbformat": 4,
 "nbformat_minor": 5
}
