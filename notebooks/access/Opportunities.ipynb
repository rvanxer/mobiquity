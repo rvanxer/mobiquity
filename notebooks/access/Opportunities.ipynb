{
 "cells": [
  {
   "cell_type": "markdown",
   "metadata": {},
   "source": [
    "# 1. Setup"
   ]
  },
  {
   "cell_type": "code",
   "execution_count": 1,
   "metadata": {},
   "outputs": [],
   "source": [
    "import sys\n",
    "sys.path.append('../..')\n",
    "from mobiquity.names import *\n",
    "from mobiquity.spark import F, SparkSession\n",
    "\n",
    "from urllib.error import HTTPError"
   ]
  },
  {
   "cell_type": "markdown",
   "metadata": {},
   "source": [
    "# 2. Jobs\n",
    "Using the LEHD LODES dataset: https://lehd.ces.census.gov/data"
   ]
  },
  {
   "cell_type": "code",
   "execution_count": 2,
   "metadata": {},
   "outputs": [
    {
     "name": "stdout",
     "output_type": "stream",
     "text": [
      "49 rows x 3 cols; Memory: 0.0 MiB\n"
     ]
    },
    {
     "data": {
      "text/html": [
       "<div>\n",
       "<style scoped>\n",
       "    .dataframe tbody tr th:only-of-type {\n",
       "        vertical-align: middle;\n",
       "    }\n",
       "\n",
       "    .dataframe tbody tr th {\n",
       "        vertical-align: top;\n",
       "    }\n",
       "\n",
       "    .dataframe thead th {\n",
       "        text-align: right;\n",
       "    }\n",
       "</style>\n",
       "<table border=\"1\" class=\"dataframe\">\n",
       "  <thead>\n",
       "    <tr style=\"text-align: right;\">\n",
       "      <th></th>\n",
       "      <th>name</th>\n",
       "      <th>code</th>\n",
       "      <th>fips</th>\n",
       "    </tr>\n",
       "  </thead>\n",
       "  <tbody>\n",
       "    <tr>\n",
       "      <th></th>\n",
       "      <td>&lt;object&gt;</td>\n",
       "      <td>&lt;object&gt;</td>\n",
       "      <td>&lt;int64&gt;</td>\n",
       "    </tr>\n",
       "    <tr>\n",
       "      <th>0</th>\n",
       "      <td>Alabama</td>\n",
       "      <td>AL</td>\n",
       "      <td>1</td>\n",
       "    </tr>\n",
       "  </tbody>\n",
       "</table>\n",
       "</div>"
      ],
      "text/plain": [
       "       name      code     fips\n",
       "   <object>  <object>  <int64>\n",
       "0   Alabama        AL        1"
      ]
     },
     "metadata": {},
     "output_type": "display_data"
    }
   ],
   "source": [
    "states = pd.read_csv(DATA / 'us_states.csv').disp()"
   ]
  },
  {
   "cell_type": "markdown",
   "metadata": {},
   "source": [
    "## 2.1. Job counts"
   ]
  },
  {
   "cell_type": "code",
   "execution_count": 15,
   "metadata": {},
   "outputs": [
    {
     "name": "stdout",
     "output_type": "stream",
     "text": [
      "1,276,237 rows x 4 cols; Memory: 41.4 MiB\n"
     ]
    },
    {
     "data": {
      "text/html": [
       "<div>\n",
       "<style scoped>\n",
       "    .dataframe tbody tr th:only-of-type {\n",
       "        vertical-align: middle;\n",
       "    }\n",
       "\n",
       "    .dataframe tbody tr th {\n",
       "        vertical-align: top;\n",
       "    }\n",
       "\n",
       "    .dataframe thead th {\n",
       "        text-align: right;\n",
       "    }\n",
       "</style>\n",
       "<table border=\"1\" class=\"dataframe\">\n",
       "  <thead>\n",
       "    <tr style=\"text-align: right;\">\n",
       "      <th></th>\n",
       "      <th>geoid</th>\n",
       "      <th>scale</th>\n",
       "      <th>kind</th>\n",
       "      <th>n_jobs</th>\n",
       "    </tr>\n",
       "  </thead>\n",
       "  <tbody>\n",
       "    <tr>\n",
       "      <th></th>\n",
       "      <td>&lt;category&gt;</td>\n",
       "      <td>&lt;category&gt;</td>\n",
       "      <td>&lt;category&gt;</td>\n",
       "      <td>&lt;int32&gt;</td>\n",
       "    </tr>\n",
       "    <tr>\n",
       "      <th>0</th>\n",
       "      <td>01001</td>\n",
       "      <td>County</td>\n",
       "      <td>All</td>\n",
       "      <td>12318</td>\n",
       "    </tr>\n",
       "  </tbody>\n",
       "</table>\n",
       "</div>"
      ],
      "text/plain": [
       "        geoid       scale        kind   n_jobs\n",
       "   <category>  <category>  <category>  <int32>\n",
       "0       01001      County         All    12318"
      ]
     },
     "metadata": {},
     "output_type": "display_data"
    }
   ],
   "source": [
    "def get_tot_jobs(year, fips=states.code.str.lower(), imp_cols=D(\n",
    "        C000='All', CE01='Low wage', CR01='White', CD01='<HS', CD02='HS'\n",
    "        ), overwrite=False):\n",
    "    outpath = DATA / f'access/opport/job_totals_{year}.parquet'\n",
    "    if (df := U.checkfile(outpath, overwrite)) is not None: return df\n",
    "    lodes = 'LODES' + ('7' if year <= 2020 else '8')\n",
    "    root = f'https://lehd.ces.census.gov/data/lodes/{lodes}'\n",
    "    res = []\n",
    "    for st in tqdm(fips):\n",
    "        url = f'{root}/{st}/wac/{st}_wac_S000_JT00_{year}.csv.gz'\n",
    "        try:\n",
    "            df = pd.read_csv(url)\n",
    "        except HTTPError: # for AR & MS, latest data is for 2018\n",
    "            df = pd.read_csv(url.replace(f'{year}', '2018'))\n",
    "        except Exception as e:\n",
    "            print(f'ERROR in state {st}: {e}')\n",
    "            continue\n",
    "        df = df.rename(columns={df.columns[0]: 'geoid'}).set_index('geoid')\n",
    "        df.index = df.index.astype(str).str.zfill(15)\n",
    "        df = df[list(imp_cols)].rename(columns=imp_cols)\n",
    "        df['POC'] = df['All'] - df.pop('White')\n",
    "        df['Low edu'] = df.pop('<HS') + df.pop('HS')\n",
    "        for scale, nChar in D(County=5, Tract=11, BG=12).items():\n",
    "            d = (df.set_index(df.index.str[:nChar])\n",
    "                 .groupby('geoid').sum().reset_index()\n",
    "                 .melt('geoid', var_name='kind', value_name='n_jobs'))\n",
    "            res.append(d.assign(scale=scale))\n",
    "    df = pd.concat(res).query('n_jobs > 0').reset_index(drop=1)\n",
    "    cols = D(geoid=CAT, scale=CAT, kind=CAT, n_jobs=I32)\n",
    "    df = df[list(cols)].astype(cols)\n",
    "    df.to_parquet(U.mkfile(outpath))\n",
    "    return df\n",
    "\n",
    "tot_jobs = get_tot_jobs(2021, overwrite=0).disp() # 52s"
   ]
  },
  {
   "cell_type": "markdown",
   "metadata": {},
   "source": [
    "## 2.2. Job flows"
   ]
  },
  {
   "cell_type": "code",
   "execution_count": 4,
   "metadata": {},
   "outputs": [
    {
     "name": "stdout",
     "output_type": "stream",
     "text": [
      "111,852,173 rows x 6 cols; Memory: 1982.5 MiB\n"
     ]
    },
    {
     "data": {
      "text/html": [
       "<div>\n",
       "<style scoped>\n",
       "    .dataframe tbody tr th:only-of-type {\n",
       "        vertical-align: middle;\n",
       "    }\n",
       "\n",
       "    .dataframe tbody tr th {\n",
       "        vertical-align: top;\n",
       "    }\n",
       "\n",
       "    .dataframe thead th {\n",
       "        text-align: right;\n",
       "    }\n",
       "</style>\n",
       "<table border=\"1\" class=\"dataframe\">\n",
       "  <thead>\n",
       "    <tr style=\"text-align: right;\">\n",
       "      <th></th>\n",
       "      <th>state</th>\n",
       "      <th>scale</th>\n",
       "      <th>src</th>\n",
       "      <th>trg</th>\n",
       "      <th>All</th>\n",
       "      <th>Low wage</th>\n",
       "    </tr>\n",
       "  </thead>\n",
       "  <tbody>\n",
       "    <tr>\n",
       "      <th></th>\n",
       "      <td>&lt;category&gt;</td>\n",
       "      <td>&lt;category&gt;</td>\n",
       "      <td>&lt;category&gt;</td>\n",
       "      <td>&lt;category&gt;</td>\n",
       "      <td>&lt;int32&gt;</td>\n",
       "      <td>&lt;int32&gt;</td>\n",
       "    </tr>\n",
       "    <tr>\n",
       "      <th>0</th>\n",
       "      <td>AL</td>\n",
       "      <td>BG</td>\n",
       "      <td>100010405011</td>\n",
       "      <td>109503080430</td>\n",
       "      <td>1</td>\n",
       "      <td>1</td>\n",
       "    </tr>\n",
       "  </tbody>\n",
       "</table>\n",
       "</div>"
      ],
      "text/plain": [
       "        state       scale           src           trg      All Low wage\n",
       "   <category>  <category>    <category>    <category>  <int32>  <int32>\n",
       "0          AL          BG  100010405011  109503080430        1        1"
      ]
     },
     "metadata": {},
     "output_type": "display_data"
    }
   ],
   "source": [
    "def get_job_flows(year, fips=states.code.str.lower(),\n",
    "                  imp_cols=D(S000='All', SE01='Low wage'),\n",
    "                  overwrite=False):\n",
    "    outpath = DATA / f'access/opport/job_flows_{year}.parquet'\n",
    "    if (df := U.checkfile(outpath, overwrite)) is not None: return df\n",
    "    lodes = 'LODES' + ('7' if year <= 2020 else '8')\n",
    "    root = f'https://lehd.ces.census.gov/data/lodes/{lodes}'\n",
    "    res = []\n",
    "    for st in tqdm(fips):\n",
    "        df = []\n",
    "        for table in ['main', 'aux']:\n",
    "            url = f'{root}/{st}/od/{st}_od_{table}_JT00_{year}.csv.gz'\n",
    "            try:\n",
    "                df.append(pd.read_csv(url))\n",
    "            except HTTPError: # for AR & MS, latest data is for 2018\n",
    "                df.append(pd.read_csv(url.replace(f'{year}', '2018')))\n",
    "        df = pd.concat(df)\n",
    "        df['src'] = df.pop('h_geocode').astype(str).str[:12]\n",
    "        df['trg'] = df.pop('w_geocode').astype(str).str[:12]\n",
    "        df = (df.groupby(['src', 'trg'])[list(imp_cols)].sum()\n",
    "              .astype(I32).reset_index().rename(columns=imp_cols))\n",
    "        df2 = df.copy()\n",
    "        df2.insert(0, 'state', st.upper())\n",
    "        df2.insert(1, 'scale', 'BG')\n",
    "        for scale, nChar in D(County=5, Tract=11).items():\n",
    "            d = df.assign(src=df.src.str[:nChar], trg=df.trg.str[:nChar])\n",
    "            d = d.groupby(['src', 'trg']).sum().astype(I32).reset_index()\n",
    "            d.insert(0, 'state', st.upper())\n",
    "            d.insert(1, 'scale', scale)\n",
    "            df2 = pd.concat([df2, d])\n",
    "        res.append(df2)\n",
    "    df = pd.concat(res).reset_index(drop=1)\n",
    "    df = df.astype(D(src=CAT, trg=CAT, scale=CAT, state=CAT))\n",
    "    df.to_parquet(U.mkfile(outpath))\n",
    "    return df\n",
    "\n",
    "# job_od = get_job_flows(2021, overwrite=0).disp() # 14m48s – 12s"
   ]
  },
  {
   "cell_type": "markdown",
   "metadata": {},
   "source": [
    "# 3. POIs"
   ]
  },
  {
   "cell_type": "markdown",
   "metadata": {},
   "source": [
    "## 3.1. SafeGraph POIs"
   ]
  },
  {
   "cell_type": "code",
   "execution_count": 5,
   "metadata": {},
   "outputs": [
    {
     "name": "stdout",
     "output_type": "stream",
     "text": [
      "19 rows x 2 cols; Memory: 0.0 MiB\n"
     ]
    },
    {
     "data": {
      "text/html": [
       "<div>\n",
       "<style scoped>\n",
       "    .dataframe tbody tr th:only-of-type {\n",
       "        vertical-align: middle;\n",
       "    }\n",
       "\n",
       "    .dataframe tbody tr th {\n",
       "        vertical-align: top;\n",
       "    }\n",
       "\n",
       "    .dataframe thead th {\n",
       "        text-align: right;\n",
       "    }\n",
       "</style>\n",
       "<table border=\"1\" class=\"dataframe\">\n",
       "  <thead>\n",
       "    <tr style=\"text-align: right;\">\n",
       "      <th></th>\n",
       "      <th>kind</th>\n",
       "      <th>top_category</th>\n",
       "    </tr>\n",
       "  </thead>\n",
       "  <tbody>\n",
       "    <tr>\n",
       "      <th></th>\n",
       "      <td>&lt;object&gt;</td>\n",
       "      <td>&lt;object&gt;</td>\n",
       "    </tr>\n",
       "    <tr>\n",
       "      <th>0</th>\n",
       "      <td>Education</td>\n",
       "      <td>Colleges, Universities, and Professional Schools</td>\n",
       "    </tr>\n",
       "  </tbody>\n",
       "</table>\n",
       "</div>"
      ],
      "text/plain": [
       "        kind                                      top_category\n",
       "    <object>                                          <object>\n",
       "0  Education  Colleges, Universities, and Professional Schools"
      ]
     },
     "metadata": {},
     "output_type": "display_data"
    }
   ],
   "source": [
    "sg_cats = (U.filt(U.load(DATA / 'poi_categories.csv'), source='SafeGraph')\n",
    "           .rename(columns=D(category='kind', title='top_category'))).disp()"
   ]
  },
  {
   "cell_type": "code",
   "execution_count": 6,
   "metadata": {},
   "outputs": [],
   "source": [
    "sg_poi_path = '/home/umni2/a/umnilab/data/safegraph/pois/us/2020-11-06.parquet'"
   ]
  },
  {
   "cell_type": "code",
   "execution_count": 7,
   "metadata": {},
   "outputs": [
    {
     "name": "stdout",
     "output_type": "stream",
     "text": [
      "5,510,037 rows x 4 cols; Memory: 454.2 MiB\n"
     ]
    },
    {
     "data": {
      "text/html": [
       "<div>\n",
       "<style scoped>\n",
       "    .dataframe tbody tr th:only-of-type {\n",
       "        vertical-align: middle;\n",
       "    }\n",
       "\n",
       "    .dataframe tbody tr th {\n",
       "        vertical-align: top;\n",
       "    }\n",
       "\n",
       "    .dataframe thead th {\n",
       "        text-align: right;\n",
       "    }\n",
       "</style>\n",
       "<table border=\"1\" class=\"dataframe\">\n",
       "  <thead>\n",
       "    <tr style=\"text-align: right;\">\n",
       "      <th></th>\n",
       "      <th>placekey</th>\n",
       "      <th>kind</th>\n",
       "      <th>geoid</th>\n",
       "      <th>state</th>\n",
       "    </tr>\n",
       "  </thead>\n",
       "  <tbody>\n",
       "    <tr>\n",
       "      <th></th>\n",
       "      <td>&lt;object&gt;</td>\n",
       "      <td>&lt;category&gt;</td>\n",
       "      <td>&lt;category&gt;</td>\n",
       "      <td>&lt;category&gt;</td>\n",
       "    </tr>\n",
       "    <tr>\n",
       "      <th>0</th>\n",
       "      <td>224-222@8t2-d74-syv</td>\n",
       "      <td>NaN</td>\n",
       "      <td>480219507002</td>\n",
       "      <td>TX</td>\n",
       "    </tr>\n",
       "  </tbody>\n",
       "</table>\n",
       "</div>"
      ],
      "text/plain": [
       "              placekey        kind         geoid       state\n",
       "              <object>  <category>    <category>  <category>\n",
       "0  224-222@8t2-d74-syv         NaN  480219507002          TX"
      ]
     },
     "metadata": {},
     "output_type": "display_data"
    }
   ],
   "source": [
    "def get_pois(inpath=sg_poi_path, categories=sg_cats, overwrite=False):\n",
    "    outpath = DATA / 'access/opport/pois_2020.parquet'\n",
    "    if (df := U.checkfile(outpath, overwrite)) is not None: return df\n",
    "    poi = (U.load(inpath, columns='placekey top_category region lon lat'.split())\n",
    "           .merge(categories, 'left', on='top_category')\n",
    "           .rename(columns=D(region='state')))\n",
    "    poi = U.pdf2gdf(poi, 'lon', 'lat', CRS_DEG).to_crs(CRS_M)\n",
    "    zones = U.load(DATA / 'zones/zones_2020.parquet', filters=[\n",
    "        ('scale', '==', 'BG')], columns=['geoid', 'geometry'])\n",
    "    poi = poi.sjoin(zones, predicate='within').reset_index(drop=1)\n",
    "    poi = poi[['placekey', 'kind', 'geoid', 'state']]\n",
    "    poi = poi.astype(D(kind=CAT, geoid=CAT, state=CAT))\n",
    "    poi.to_parquet(U.mkfile(outpath))\n",
    "    return poi\n",
    "\n",
    "poi = get_pois(overwrite=0).disp() # 1m1s"
   ]
  },
  {
   "cell_type": "markdown",
   "metadata": {},
   "source": [
    "### 3.1.1. Count POIs by kind & BG"
   ]
  },
  {
   "cell_type": "code",
   "execution_count": 8,
   "metadata": {},
   "outputs": [
    {
     "name": "stdout",
     "output_type": "stream",
     "text": [
      "976,813 rows x 4 cols; Memory: 38.2 MiB\n"
     ]
    },
    {
     "data": {
      "text/html": [
       "<div>\n",
       "<style scoped>\n",
       "    .dataframe tbody tr th:only-of-type {\n",
       "        vertical-align: middle;\n",
       "    }\n",
       "\n",
       "    .dataframe tbody tr th {\n",
       "        vertical-align: top;\n",
       "    }\n",
       "\n",
       "    .dataframe thead th {\n",
       "        text-align: right;\n",
       "    }\n",
       "</style>\n",
       "<table border=\"1\" class=\"dataframe\">\n",
       "  <thead>\n",
       "    <tr style=\"text-align: right;\">\n",
       "      <th></th>\n",
       "      <th>geoid</th>\n",
       "      <th>scale</th>\n",
       "      <th>kind</th>\n",
       "      <th>n_pois</th>\n",
       "    </tr>\n",
       "  </thead>\n",
       "  <tbody>\n",
       "    <tr>\n",
       "      <th></th>\n",
       "      <td>&lt;category&gt;</td>\n",
       "      <td>&lt;category&gt;</td>\n",
       "      <td>&lt;category&gt;</td>\n",
       "      <td>&lt;int32&gt;</td>\n",
       "    </tr>\n",
       "    <tr>\n",
       "      <th>0</th>\n",
       "      <td>010010202001</td>\n",
       "      <td>BG</td>\n",
       "      <td>Education</td>\n",
       "      <td>1</td>\n",
       "    </tr>\n",
       "  </tbody>\n",
       "</table>\n",
       "</div>"
      ],
      "text/plain": [
       "          geoid       scale        kind   n_pois\n",
       "     <category>  <category>  <category>  <int32>\n",
       "0  010010202001          BG   Education        1"
      ]
     },
     "metadata": {},
     "output_type": "display_data"
    }
   ],
   "source": [
    "def agg_pois_by_bg(poi, overwrite=False):\n",
    "    outpath = DATA / 'access/opport/poi_totals_2020.parquet'\n",
    "    if (df := U.checkfile(outpath, overwrite)) is not None: return df\n",
    "    df_all = poi.groupby(['geoid']).size().reset_index().assign(kind='Total')\n",
    "    by_kind = poi.groupby(['kind', 'geoid']).size().reset_index()\n",
    "    df = (pd.concat([df_all, by_kind]).rename(columns={0: 'n_pois'})\n",
    "          .query('n_pois > 0').reset_index(drop=1))\n",
    "    res = [df.assign(scale='BG')]\n",
    "    for scale, nchar in D(County=5, Tract=11).items():\n",
    "        d = df.assign(geoid=df.geoid.str[:nchar])\n",
    "        d = d.groupby(['geoid', 'kind'])['n_pois'].sum().reset_index()\n",
    "        res.append(d.assign(scale=scale))\n",
    "    df = (pd.concat(res).reset_index(drop=1)\n",
    "          .astype(D(scale=CAT, kind=CAT, geoid=CAT, n_pois=I32))\n",
    "          [['geoid', 'scale', 'kind', 'n_pois']])\n",
    "    df.to_parquet(U.mkfile(outpath))\n",
    "    return df\n",
    "\n",
    "tot_pois = agg_pois_by_bg(poi, overwrite=0).disp() # 2s"
   ]
  },
  {
   "cell_type": "code",
   "execution_count": 9,
   "metadata": {},
   "outputs": [
    {
     "data": {
      "text/html": [
       "<div>\n",
       "<style scoped>\n",
       "    .dataframe tbody tr th:only-of-type {\n",
       "        vertical-align: middle;\n",
       "    }\n",
       "\n",
       "    .dataframe tbody tr th {\n",
       "        vertical-align: top;\n",
       "    }\n",
       "\n",
       "    .dataframe thead th {\n",
       "        text-align: right;\n",
       "    }\n",
       "</style>\n",
       "<table border=\"1\" class=\"dataframe\">\n",
       "  <thead>\n",
       "    <tr style=\"text-align: right;\">\n",
       "      <th>kind</th>\n",
       "      <th>Education</th>\n",
       "      <th>Groceries</th>\n",
       "      <th>Medical</th>\n",
       "      <th>Social Support</th>\n",
       "      <th>Total</th>\n",
       "    </tr>\n",
       "  </thead>\n",
       "  <tbody>\n",
       "    <tr>\n",
       "      <th>n_pois</th>\n",
       "      <td>593664</td>\n",
       "      <td>455679</td>\n",
       "      <td>1875396</td>\n",
       "      <td>443391</td>\n",
       "      <td>16530111</td>\n",
       "    </tr>\n",
       "  </tbody>\n",
       "</table>\n",
       "</div>"
      ],
      "text/plain": [
       "kind    Education  Groceries  Medical  Social Support     Total\n",
       "n_pois     593664     455679  1875396          443391  16530111"
      ]
     },
     "execution_count": 9,
     "metadata": {},
     "output_type": "execute_result"
    }
   ],
   "source": [
    "tot_pois.groupby('kind')['n_pois'].sum().to_frame().T"
   ]
  },
  {
   "cell_type": "markdown",
   "metadata": {},
   "source": [
    "## 3.2. Visits ODM"
   ]
  },
  {
   "cell_type": "code",
   "execution_count": 10,
   "metadata": {},
   "outputs": [
    {
     "name": "stderr",
     "output_type": "stream",
     "text": [
      "Setting default log level to \"WARN\".\n",
      "To adjust logging level use sc.setLogLevel(newLevel). For SparkR, use setLogLevel(newLevel).\n",
      "24/04/03 19:59:34 WARN NativeCodeLoader: Unable to load native-hadoop library for your platform... using builtin-java classes where applicable\n"
     ]
    }
   ],
   "source": [
    "# spark = SparkSession()"
   ]
  },
  {
   "cell_type": "code",
   "execution_count": 11,
   "metadata": {},
   "outputs": [],
   "source": [
    "poi_visits_path = '/home/umni2/a/umnilab/data/safegraph/patterns/monthly/2021-04-01'"
   ]
  },
  {
   "cell_type": "code",
   "execution_count": 12,
   "metadata": {},
   "outputs": [
    {
     "name": "stdout",
     "output_type": "stream",
     "text": [
      "74,658,050 rows x 5 cols; Memory: 1042.3 MiB\n"
     ]
    },
    {
     "data": {
      "text/html": [
       "<div>\n",
       "<style scoped>\n",
       "    .dataframe tbody tr th:only-of-type {\n",
       "        vertical-align: middle;\n",
       "    }\n",
       "\n",
       "    .dataframe tbody tr th {\n",
       "        vertical-align: top;\n",
       "    }\n",
       "\n",
       "    .dataframe thead th {\n",
       "        text-align: right;\n",
       "    }\n",
       "</style>\n",
       "<table border=\"1\" class=\"dataframe\">\n",
       "  <thead>\n",
       "    <tr style=\"text-align: right;\">\n",
       "      <th></th>\n",
       "      <th>state</th>\n",
       "      <th>src</th>\n",
       "      <th>trg</th>\n",
       "      <th>kind</th>\n",
       "      <th>visitors</th>\n",
       "    </tr>\n",
       "  </thead>\n",
       "  <tbody>\n",
       "    <tr>\n",
       "      <th></th>\n",
       "      <td>&lt;category&gt;</td>\n",
       "      <td>&lt;category&gt;</td>\n",
       "      <td>&lt;category&gt;</td>\n",
       "      <td>&lt;category&gt;</td>\n",
       "      <td>&lt;int32&gt;</td>\n",
       "    </tr>\n",
       "    <tr>\n",
       "      <th>0</th>\n",
       "      <td>WA</td>\n",
       "      <td>530630044004</td>\n",
       "      <td>530630102041</td>\n",
       "      <td>All</td>\n",
       "      <td>4</td>\n",
       "    </tr>\n",
       "  </tbody>\n",
       "</table>\n",
       "</div>"
      ],
      "text/plain": [
       "        state           src           trg        kind visitors\n",
       "   <category>    <category>    <category>  <category>  <int32>\n",
       "0          WA  530630044004  530630102041         All        4"
      ]
     },
     "metadata": {},
     "output_type": "display_data"
    }
   ],
   "source": [
    "def get_poi_flows(spark, path=poi_visits_path, overwrite=False):\n",
    "    outpath = DATA / 'access/opport/poi_visits_2021.parquet'\n",
    "    if (df := U.checkfile(outpath, overwrite)) is not None: return df\n",
    "    poi = spark.read_parquet(DATA / 'access/opport/pois_2020.parquet')\n",
    "    vis = spark.read_parquet(path).select(\n",
    "        'placekey', F.col('visitor_home_cbgs').alias('od'))\n",
    "    od = vis.select('placekey', F.explode('od').alias('src', 'n'))\n",
    "    od = od.join(poi.withColumnRenamed('geoid', 'trg'), on='placekey')\n",
    "    total = (od.groupBy('src', 'trg').agg(F.sum('n').alias('n'))\n",
    "             .withColumn('kind', F.lit('All')))\n",
    "    byKind = od.groupBy('src', 'trg', 'kind').agg(F.sum('n').alias('n'))\n",
    "    od = total.select('src', 'trg', 'kind', 'n').union(byKind)\n",
    "    od = od.toPandas().rename(columns=D(n='visitors'))\n",
    "    od = od.astype(D(state=CAT, src=CAT, trg=CAT, kind=CAT, visitors=I32))\n",
    "    od.to_parquet(U.mkfile(outpath), compression='gzip')\n",
    "    return od\n",
    "\n",
    "# poiOD = get_poi_flows(spark, overwrite=0).disp() # 4m47s"
   ]
  },
  {
   "cell_type": "markdown",
   "metadata": {},
   "source": [
    "# 4. Combine"
   ]
  },
  {
   "cell_type": "code",
   "execution_count": 20,
   "metadata": {},
   "outputs": [
    {
     "name": "stdout",
     "output_type": "stream",
     "text": [
      "2,253,050 rows x 5 cols; Memory: 52.9 MiB\n"
     ]
    },
    {
     "data": {
      "text/html": [
       "<div>\n",
       "<style scoped>\n",
       "    .dataframe tbody tr th:only-of-type {\n",
       "        vertical-align: middle;\n",
       "    }\n",
       "\n",
       "    .dataframe tbody tr th {\n",
       "        vertical-align: top;\n",
       "    }\n",
       "\n",
       "    .dataframe thead th {\n",
       "        text-align: right;\n",
       "    }\n",
       "</style>\n",
       "<table border=\"1\" class=\"dataframe\">\n",
       "  <thead>\n",
       "    <tr style=\"text-align: right;\">\n",
       "      <th></th>\n",
       "      <th>geoid</th>\n",
       "      <th>scale</th>\n",
       "      <th>purpose</th>\n",
       "      <th>kind</th>\n",
       "      <th>opport</th>\n",
       "    </tr>\n",
       "  </thead>\n",
       "  <tbody>\n",
       "    <tr>\n",
       "      <th></th>\n",
       "      <td>&lt;category&gt;</td>\n",
       "      <td>&lt;category&gt;</td>\n",
       "      <td>&lt;category&gt;</td>\n",
       "      <td>&lt;category&gt;</td>\n",
       "      <td>&lt;int32&gt;</td>\n",
       "    </tr>\n",
       "    <tr>\n",
       "      <th>0</th>\n",
       "      <td>01001</td>\n",
       "      <td>County</td>\n",
       "      <td>Work</td>\n",
       "      <td>All</td>\n",
       "      <td>12318</td>\n",
       "    </tr>\n",
       "  </tbody>\n",
       "</table>\n",
       "</div>"
      ],
      "text/plain": [
       "        geoid       scale     purpose        kind   opport\n",
       "   <category>  <category>  <category>  <category>  <int32>\n",
       "0       01001      County        Work         All    12318"
      ]
     },
     "metadata": {},
     "output_type": "display_data"
    }
   ],
   "source": [
    "opport = pd.concat([\n",
    "    tot_jobs.rename(columns=D(n_jobs='opport')).assign(purpose='Work'),\n",
    "    tot_pois.rename(columns=D(n_pois='opport')).assign(purpose='Non-work')\n",
    "]).reset_index(drop=1)[['geoid', 'scale', 'purpose', 'kind', 'opport']]\n",
    "opport = opport.astype(D(geoid=CAT, scale=CAT, purpose=CAT, kind=CAT)).disp()"
   ]
  },
  {
   "cell_type": "code",
   "execution_count": 21,
   "metadata": {},
   "outputs": [],
   "source": [
    "opport.to_parquet(DATA / 'access/opport/opportunities.parquet')"
   ]
  },
  {
   "cell_type": "code",
   "execution_count": null,
   "metadata": {},
   "outputs": [],
   "source": []
  }
 ],
 "metadata": {
  "kernelspec": {
   "display_name": "mk11",
   "language": "python",
   "name": "python3"
  },
  "language_info": {
   "codemirror_mode": {
    "name": "ipython",
    "version": 3
   },
   "file_extension": ".py",
   "mimetype": "text/x-python",
   "name": "python",
   "nbconvert_exporter": "python",
   "pygments_lexer": "ipython3",
   "version": "3.11.6"
  }
 },
 "nbformat": 4,
 "nbformat_minor": 2
}
